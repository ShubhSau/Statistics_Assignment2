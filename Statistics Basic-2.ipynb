{
 "cells": [
  {
   "cell_type": "markdown",
   "id": "f9bdf551-9e9b-4c73-901b-4859c957df19",
   "metadata": {},
   "source": [
    "Q1. What are the three measures of central tendency?"
   ]
  },
  {
   "cell_type": "markdown",
   "id": "5788489d-1007-4a95-9f43-7cf0e1fa499a",
   "metadata": {},
   "source": [
    "A1. Measures of Central Tendency : \n",
    "\n",
    "In Mathematics, statistics are used to describe the central tendencies of the grouped and ungrouped data. The three measures of central tendency are:\n",
    "\n",
    "    - Mean: The mean represents the average value of the dataset\n",
    "    - Median: The median is the middle value in a dataset when the data is sorted in ascending or descending order.\n",
    "    - Mode: The mode is the value or values that appear most frequently in a dataset.\n",
    "    \n",
    "All three measures of central tendency are used to find the central value of the set of data."
   ]
  },
  {
   "cell_type": "markdown",
   "id": "a236a8b7-aecd-4b3d-b933-ad8e5d538173",
   "metadata": {},
   "source": [
    "Q2. What is the difference between the mean, median, and mode? How are they used to measure the central tendency of a dataset?"
   ]
  },
  {
   "cell_type": "markdown",
   "id": "833faf70-5180-49f4-ad81-6a0cdeaa6d78",
   "metadata": {},
   "source": [
    "A2. The mean, median, and mode are all statistical measures used to describe the central tendency of a dataset. They provide information about where the data points tend to cluster or center around.\n",
    "\n",
    "1. Mean: \n",
    "    - The mean is calculated by summing up all the values in a dataset and dividing the sum by the number of data points.\n",
    "    - It is also known as the average. The mean is sensitive to extreme values, as it takes into account every data point. \n",
    "    - It is often used when the data follows a normal distribution or when there are no outliers that significantly affect the average.\n",
    "    - The mean is commonly used when the data is symmetrically distributed and doesn't have significant outliers.\n",
    "\n",
    "2. Median: \n",
    "    - The median is the middle value in a dataset when the values are arranged in ascending or descending order.\n",
    "    - If there is an even number of data points, the median is the average of the two middle values. The median is less affected by extreme values and outliers compared to the mean.\n",
    "    - It is useful when the data contains outliers or when the distribution is skewed.\n",
    "    - The median is preferred when the data is skewed or contains outliers.\n",
    "\n",
    "3. Mode: \n",
    "    - The mode is the value or values that appear most frequently in a dataset.\n",
    "    - Unlike the mean and median, the mode can be used for both numerical and categorical data. \n",
    "    - A dataset can have multiple modes (multimodal) or no mode if all values occur with equal frequency. \n",
    "    - The mode is useful for identifying the most frequent category or value in a dataset."
   ]
  },
  {
   "cell_type": "markdown",
   "id": "f5048648-1a57-4a91-824a-16a7588278ca",
   "metadata": {},
   "source": [
    "Q3. Measure the three measures of central tendency for the given height data:\n",
    "[178,177,176,177,178.2,178,175,179,180,175,178.9,176.2,177,172.5,178,176.5]"
   ]
  },
  {
   "cell_type": "code",
   "execution_count": 3,
   "id": "ef872eca-2953-42b8-9be5-9a53f374152c",
   "metadata": {},
   "outputs": [
    {
     "name": "stdout",
     "output_type": "stream",
     "text": [
      "Mean of height_data is: 177.01875\n",
      "Median of height_data is: 177.0\n",
      "Mode of height_data is: ModeResult(mode=array([177.]), count=array([3]))\n"
     ]
    },
    {
     "name": "stderr",
     "output_type": "stream",
     "text": [
      "/tmp/ipykernel_91/1239588755.py:18: FutureWarning: Unlike other reduction functions (e.g. `skew`, `kurtosis`), the default behavior of `mode` typically preserves the axis it acts along. In SciPy 1.11.0, this behavior will change: the default value of `keepdims` will become False, the `axis` over which the statistic is taken will be eliminated, and the value None will no longer be accepted. Set `keepdims` to True or False to avoid this warning.\n",
      "  mode = stats.mode(height_data)\n"
     ]
    }
   ],
   "source": [
    "height_data = [178,177,176,177,178.2,178,175,179,180,175,178.9,176.2,177,172.5,178,176.5]\n",
    "\n",
    "import numpy as np\n",
    "from scipy import stats\n",
    "\n",
    "# Mean\n",
    "\n",
    "mean = np.mean(height_data)\n",
    "print(\"Mean of height_data is:\", mean)\n",
    "\n",
    "# Median\n",
    "\n",
    "median = np.median(height_data)\n",
    "print(\"Median of height_data is:\", median)\n",
    "\n",
    "# Mode\n",
    "\n",
    "mode = stats.mode(height_data)\n",
    "print(\"Mode of height_data is:\", mode)"
   ]
  },
  {
   "cell_type": "markdown",
   "id": "4304ac8a-072d-42f7-9b5f-92ad346822a1",
   "metadata": {},
   "source": [
    "Q4. Find the standard deviation for the given data:\n",
    "[178,177,176,177,178.2,178,175,179,180,175,178.9,176.2,177,172.5,178,176.5]"
   ]
  },
  {
   "cell_type": "code",
   "execution_count": 4,
   "id": "5548b42c-839f-42ea-b2a6-dfaec8d0c712",
   "metadata": {},
   "outputs": [
    {
     "name": "stdout",
     "output_type": "stream",
     "text": [
      "Standard deviation of data is: 1.7885814036548633\n"
     ]
    }
   ],
   "source": [
    "data = [178,177,176,177,178.2,178,175,179,180,175,178.9,176.2,177,172.5,178,176.5]\n",
    "\n",
    "import numpy as np\n",
    "\n",
    "std = np.std(data)\n",
    "print(\"Standard deviation of data is:\", std)"
   ]
  },
  {
   "cell_type": "markdown",
   "id": "bc036312-8d62-4702-9595-4e1e8e97277e",
   "metadata": {},
   "source": [
    "Q5. How are measures of dispersion such as range, variance, and standard deviation used to describe the spread of a dataset? Provide an example."
   ]
  },
  {
   "cell_type": "markdown",
   "id": "fda7b141-230b-4683-bd0e-a02eba2a8f1f",
   "metadata": {},
   "source": [
    "A5. the dispersion measures help interpret data variability, i.e. to understand how homogenous or heterogeneous the data is. In simple words, it indicates how squeezed or scattered the variable is.\n",
    "\n",
    "1. Range: The range is the simplest measure of dispersion and represents the difference between the largest and smallest values in a dataset. It gives an idea of the total spread but does not consider the distribution of values in between. A larger range indicates a wider spread, while a smaller range suggests a narrower spread.\n",
    "\n",
    "    example: Consider a dataset of exam scores: [75, 80, 82, 88, 90]. The range is calculated as 90 - 75 = 15. This means the scores range from 75 to 90, with a spread of 15 points.\n",
    "    \n",
    "2. Variance: Variance measures the average squared deviation of each data point from the mean. It considers the distribution of values and provides a more robust measure of dispersion. A larger variance indicates a greater spread, while a smaller variance suggests a tighter clustering of values around the mean.\n",
    "\n",
    "    example: exam scores:[75, 80, 82, 88, 90]\n",
    "        - Calculate mean = 83\n",
    "        - Calculate the squared difference of each value from the mean\n",
    "        - Calculate the average of these squared differences =  23.6\n",
    "        \n",
    "3. Standard Deviation: The standard deviation is the square root of the variance.A larger standard deviation indicates a greater spread, while a smaller standard deviation suggests a narrower spread.\n",
    "\n",
    "    example: Standard Deviation = sqrt(23.6) ≈ 4.859"
   ]
  },
  {
   "cell_type": "markdown",
   "id": "a8816206-17d0-494e-b8a0-78d6929b8531",
   "metadata": {},
   "source": [
    "Q6. What is a Venn diagram?"
   ]
  },
  {
   "cell_type": "markdown",
   "id": "1e32502e-28bb-439b-89ad-6beeeeaffc94",
   "metadata": {},
   "source": [
    "A6. Venn diagrams are the diagrams that are used to represent the sets, relation between the sets and operation performed on them, in a pictorial way.\n",
    "\n",
    "A diagram used to represent all possible relations of different sets. A Venn diagram can be represented by any closed figure, whether it be a Circle or a Polygon (square, hexagon, etc.). But usually, we use circles to represent each set. "
   ]
  },
  {
   "cell_type": "markdown",
   "id": "1e8d8ba3-6767-47c7-a8b9-9134164128ab",
   "metadata": {},
   "source": [
    "Q7. For the two given sets A = (2,3,4,5,6,7) & B = (0,2,6,8,10). Find:\n",
    "(i) A intersection B\n",
    "(ii) A ⋃ B"
   ]
  },
  {
   "cell_type": "markdown",
   "id": "bcc7282c-6c10-406e-9847-e7f442ec2453",
   "metadata": {},
   "source": [
    "A7. (i) (2,6)\n",
    "    (ii) (0,2,3,4,5,6,7,8,10)"
   ]
  },
  {
   "cell_type": "markdown",
   "id": "d3db16e5-11e0-41b2-bfb1-5d0d54daab87",
   "metadata": {},
   "source": [
    "Q8. What do you understand about skewness in data?"
   ]
  },
  {
   "cell_type": "markdown",
   "id": "d1f863cd-5421-4a46-a2fa-6e245bff79b5",
   "metadata": {},
   "source": [
    "A7. Skewness, is a measure of the asymmetry in a probability distribution. It measures the deviation of the curve of the normal distribution for a given set of data. \n",
    "\n",
    "The value of skewed distribution could be positive or negative or zero. Usually, the bell curve of normal distribution has zero skewness.\n",
    "\n",
    "1. Positive Skewness (Right Skewness): In a positively skewed distribution, the tail of the distribution extends towards the right, meaning that the majority of values are concentrated on the left side. The mean is usually greater than the median, and the distribution has a long tail on the right.\n",
    "\n",
    "2. Negative Skewness (Left Skewness): In a negatively skewed distribution, the tail of the distribution extends towards the left, indicating that the majority of values are concentrated on the right side. The mean is usually less than the median, and the distribution has a long tail on the left.\n",
    "\n",
    "3. Zero Skewness: A distribution with zero skewness is perfectly symmetrical. The mean, median, and mode are all equal, and the data is evenly distributed around the central tendency."
   ]
  },
  {
   "cell_type": "markdown",
   "id": "483b83dc-3ad0-48ce-addb-9e3b10c73501",
   "metadata": {},
   "source": [
    "Q9. If a data is right skewed then what will be the position of median with respect to mean?"
   ]
  },
  {
   "cell_type": "markdown",
   "id": "31a4f14c-635f-4ee9-af73-e0cbac9beea5",
   "metadata": {},
   "source": [
    "A9. If a data is right skewed then the position of the median with respect to the mean will typically be to the left of the mean."
   ]
  },
  {
   "cell_type": "markdown",
   "id": "b53bf920-71f6-4250-bf23-52f42ecb6916",
   "metadata": {},
   "source": [
    "Q10. Explain the difference between covariance and correlation. How are these measures used in statistical analysis?"
   ]
  },
  {
   "cell_type": "markdown",
   "id": "bfe8b851-1ef1-4547-bbd4-d9e81a269416",
   "metadata": {},
   "source": [
    "A10. Covariance: Covariance signifies the direction of the linear relationship between the two variables. By direction we mean if the variables are directly proportional or inversely proportional to each other. \n",
    "\n",
    "The value of covariance between 2 variables is achieved by taking the summation of the product of the differences from the means of the variables\n",
    "\n",
    "Correlation: Correlation analysis is a method of statistical evaluation used to study the strength of a relationship between two, numerically measured, continuous variables.\n",
    "\n",
    "To do so we have to normalize the covariance by dividing it with the product of the standard deviations of the two variables, thus providing a correlation between the two variables.\n",
    "\n",
    "Both covariance and correlation are used in statistical analysis to understand the relationship between variables. They are used to determine if there is a linear association, to identify the strength and direction of the relationship, and to assess the significance of the relationship. "
   ]
  },
  {
   "cell_type": "markdown",
   "id": "ec526c7f-fda9-4dc5-918b-c6635e3f99af",
   "metadata": {},
   "source": [
    "Q11. What is the formula for calculating the sample mean? Provide an example calculation for a dataset."
   ]
  },
  {
   "cell_type": "markdown",
   "id": "f5244bdb-5e94-452f-83c4-6921c3232259",
   "metadata": {},
   "source": [
    "A11. Sample Mean (x̄) = (sum of all values in the dataset) / (number of values in the dataset)\n",
    "\n",
    "dataset = [10, 15, 12, 18, 20, 16]\n",
    "\n",
    "Sample Mean (x̄) = (10 + 15 + 12 + 18 + 20 + 16) / 6\n",
    "\n",
    "Sample Mean (x̄) = 15.1667"
   ]
  },
  {
   "cell_type": "markdown",
   "id": "ebb21a11-01e0-4e20-805d-64c57b07d2c8",
   "metadata": {},
   "source": [
    "Q12. For a normal distribution data what is the relationship between its measure of central tendency?"
   ]
  },
  {
   "cell_type": "markdown",
   "id": "e78c2657-19ba-478e-a407-e1e61f0b2f78",
   "metadata": {},
   "source": [
    "A12. For normal distribution has a graph that is perfectly symmetric about a vertical line through its peak. Therefore, all measures of central tendency (most commonly, the mean, median, and mode) give the same answer.\n",
    "\n",
    "Mean = Median = Mode (or multiple modes or no mode)\n"
   ]
  },
  {
   "cell_type": "markdown",
   "id": "96585b55-e949-42ed-9196-1bbdb95d0b72",
   "metadata": {},
   "source": [
    "Q13. How is covariance different from correlation?"
   ]
  },
  {
   "cell_type": "markdown",
   "id": "ba537ea7-e1fa-4fe8-a9ac-b7d92d6e919c",
   "metadata": {},
   "source": [
    "A13. both covariance and correlation measure the relationship and the dependency between two variables. Covariance indicates the direction of the linear relationship between variables while correlation measures both the strength and direction of the linear relationship between two variables.\n",
    "\n",
    "- Covariance is an indicator of the extent to which 2 random variables are dependent on each other. A higher number denotes higher dependency.\n",
    "- The value of covariance lies in the range of -∞ and +∞.\n",
    "\n",
    "- Correlation is a statistical measure that indicates how strongly two variables are related.\n",
    "- Correlation is limited to values between the range -1 and +1"
   ]
  },
  {
   "cell_type": "markdown",
   "id": "04218751-d5e6-47f9-9f67-b7ae631ca591",
   "metadata": {},
   "source": [
    "Q14. How do outliers affect measures of central tendency and dispersion? Provide an example."
   ]
  },
  {
   "cell_type": "markdown",
   "id": "1f2411ce-4486-4219-bd66-8defac06d632",
   "metadata": {},
   "source": [
    "A14. \n",
    "1. Measures of Central Tendency:\n",
    "\n",
    "    - Mean: Outliers can have a pronounced effect on the mean because it takes into account every value in the dataset.\n",
    "    - Median: The median is less affected by outliers because it represents the middle value in a dataset.\n",
    "    - Mode: The mode is minimally affected by outliers as it represents the most frequently occurring value(s) in a dataset.\n",
    "\n",
    "2. Measures of Dispersion:\n",
    "\n",
    "    - Range: Outliers can substantially affect the range, as it is determined by the difference between the highest and lowest values.\n",
    "    - Variance and Standard Deviation: Outliers can inflate the variance and standard deviation because they introduce additional variability to the dataset. These measures are influenced by the squared differences between values and the mean, making outliers have a more pronounced impact on them.\n",
    "    \n",
    "Example:\n",
    "ages =  [18, 19, 20, 21, 22, 100]\n",
    "\n",
    "Mean: (18 + 19 + 20 + 21 + 22 + 100) / 6 = 33.33. The outlier \"100\" pulls the mean towards higher values.\n",
    "Median: remains unaffected.\n",
    "Mode: No mode\n",
    "Range: The range is determined by the difference between the highest and lowest values, which is 100 - 18 = 82. The outlier significantly increases the range.\n",
    "Variance and Standard Deviation: The presence of the outlier increases the variance and standard deviation, indicating greater variability in the dataset."
   ]
  },
  {
   "cell_type": "code",
   "execution_count": null,
   "id": "838432ad-16eb-4721-8da6-98e01a72d444",
   "metadata": {},
   "outputs": [],
   "source": []
  }
 ],
 "metadata": {
  "kernelspec": {
   "display_name": "Python 3 (ipykernel)",
   "language": "python",
   "name": "python3"
  },
  "language_info": {
   "codemirror_mode": {
    "name": "ipython",
    "version": 3
   },
   "file_extension": ".py",
   "mimetype": "text/x-python",
   "name": "python",
   "nbconvert_exporter": "python",
   "pygments_lexer": "ipython3",
   "version": "3.10.8"
  }
 },
 "nbformat": 4,
 "nbformat_minor": 5
}
